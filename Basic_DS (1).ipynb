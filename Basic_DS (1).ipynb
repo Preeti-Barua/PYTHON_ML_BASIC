{
 "cells": [
  {
   "cell_type": "code",
   "execution_count": null,
   "metadata": {},
   "outputs": [],
   "source": [
    "mylist=[\"hello\",2,\"world\",614.520,'asdfg'] #A list can have both string and numbers\n",
    "print(mylist)\n",
    "type(mylist)"
   ]
  },
  {
   "cell_type": "code",
   "execution_count": 2,
   "metadata": {},
   "outputs": [
    {
     "name": "stdout",
     "output_type": "stream",
     "text": [
      "hello\n",
      "[2, 'world']\n"
     ]
    }
   ],
   "source": [
    "print(mylist[0])\n",
    "print(mylist[1:3])"
   ]
  },
  {
   "cell_type": "code",
   "execution_count": 3,
   "metadata": {},
   "outputs": [
    {
     "name": "stdout",
     "output_type": "stream",
     "text": [
      "asdfg\n"
     ]
    }
   ],
   "source": [
    "print(mylist[-1])"
   ]
  },
  {
   "cell_type": "code",
   "execution_count": 4,
   "metadata": {},
   "outputs": [
    {
     "name": "stdout",
     "output_type": "stream",
     "text": [
      "['P', 'A', 'C', 'A', 200, 'P']\n",
      "[1, 2, 3, 4, 5, 'P', 'A', 'C', 'A', 200, 'P']\n"
     ]
    }
   ],
   "source": [
    "A=[1,2,3,4,5]\n",
    "B=['P','A','C']\n",
    "C=['A',200,'P']\n",
    "print(B+C)\n",
    "print(A+B+C)"
   ]
  },
  {
   "cell_type": "code",
   "execution_count": 6,
   "metadata": {},
   "outputs": [
    {
     "name": "stdout",
     "output_type": "stream",
     "text": [
      "[12.34, 6, 88, 4, 4, 2, 8]\n"
     ]
    }
   ],
   "source": [
    "a=[12.34]\n",
    "b=[6,88,4]\n",
    "c=[4,2,8]\n",
    "d=(a+b+c)\n",
    "print(d)\n"
   ]
  },
  {
   "cell_type": "code",
   "execution_count": 16,
   "metadata": {},
   "outputs": [
    {
     "name": "stdout",
     "output_type": "stream",
     "text": [
      "['mumbai', 'chennai', 'delhi', 14, 5]\n"
     ]
    }
   ],
   "source": [
    "Mylist=[\"mumbai\",\"chennai\",\"delhi\",\"kolkata\",14,5]\n",
    "len(Mylist)\n",
    "del(Mylist[3])         #here we are giving the index\n",
    "print(Mylist)"
   ]
  },
  {
   "cell_type": "code",
   "execution_count": 20,
   "metadata": {},
   "outputs": [
    {
     "name": "stdout",
     "output_type": "stream",
     "text": [
      "['PB', 'hello', 'FM', 'AC', 1, 3]\n",
      "['PB', 'hello', 'FM', 'AC', 1]\n"
     ]
    }
   ],
   "source": [
    "newlist=[\"PB\",\"hello\",\"FM\",\"AC\",1,2,3]\n",
    "newlist.remove(2)              #here we are giving value which to remove not the index\n",
    "print(newlist)\n",
    "newlist.pop(5)\n",
    "print(newlist)"
   ]
  },
  {
   "cell_type": "code",
   "execution_count": null,
   "metadata": {},
   "outputs": [],
   "source": []
  }
 ],
 "metadata": {
  "kernelspec": {
   "display_name": "Python 3",
   "language": "python",
   "name": "python3"
  },
  "language_info": {
   "codemirror_mode": {
    "name": "ipython",
    "version": 3
   },
   "file_extension": ".py",
   "mimetype": "text/x-python",
   "name": "python",
   "nbconvert_exporter": "python",
   "pygments_lexer": "ipython3",
   "version": "3.7.6"
  }
 },
 "nbformat": 4,
 "nbformat_minor": 4
}
