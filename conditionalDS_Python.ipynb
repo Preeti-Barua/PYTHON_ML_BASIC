{
 "cells": [
  {
   "cell_type": "code",
   "execution_count": 2,
   "metadata": {},
   "outputs": [
    {
     "name": "stdout",
     "output_type": "stream",
     "text": [
      "a is greater than 10\n"
     ]
    }
   ],
   "source": [
    "a=11\n",
    "if(a>10):\n",
    "    print(\"a is greater than 10\")               #NOTE: Maintain the intendation manner its mandatory in python\n",
    "    \n",
    "else:\n",
    "    print(\"a is less than 10\")"
   ]
  },
  {
   "cell_type": "code",
   "execution_count": 3,
   "metadata": {},
   "outputs": [
    {
     "name": "stdout",
     "output_type": "stream",
     "text": [
      "a is greater than 10\n"
     ]
    }
   ],
   "source": [
    "a=11\n",
    "if(a>10):\n",
    "    print(\"a is greater than 10\")       #NOTE: Maintain the intendation manner its mandatory in python\n",
    "elif(a<10):\n",
    "    print(\"a is less than 10\")\n",
    "else:\n",
    "    print(\"a is equal than 10\")"
   ]
  },
  {
   "cell_type": "code",
   "execution_count": 4,
   "metadata": {},
   "outputs": [
    {
     "name": "stdout",
     "output_type": "stream",
     "text": [
      "age barrier\n"
     ]
    }
   ],
   "source": [
    "age=36\n",
    "qualification=\"UG\"\n",
    "married_status='single'\n",
    "if(age<35 and qualification==\"PG\" and married_status==\"married\"):\n",
    "    print(\"you are qualified for Australian immigiration\")\n",
    "elif(age>35):\n",
    "    print(\"age barrier\")\n",
    "elif(qualification==\"UG\"):\n",
    "    print(\"qualification barrier\")\n",
    "elif(married_status==\"unmarried\"):\n",
    "    print(\"Marraige barrier\")\n"
   ]
  },
  {
   "cell_type": "code",
   "execution_count": 5,
   "metadata": {},
   "outputs": [
    {
     "name": "stdout",
     "output_type": "stream",
     "text": [
      "qualification barrier\n"
     ]
    }
   ],
   "source": [
    "age=33\n",
    "qualification=\"UG\"\n",
    "married_status='single'\n",
    "if(age<35 and qualification==\"PG\" and married_status==\"married\"):\n",
    "    print(\"you are qualified for Australian immigiration\")\n",
    "elif(age>35):\n",
    "    print(\"age barrier\")\n",
    "elif(qualification==\"UG\"):\n",
    "    print(\"qualification barrier\")\n",
    "elif(married_status==\"unmarried\"):\n",
    "    print(\"Marraige barrier\")"
   ]
  },
  {
   "cell_type": "code",
   "execution_count": 8,
   "metadata": {},
   "outputs": [
    {
     "name": "stdout",
     "output_type": "stream",
     "text": [
      "Marraige barrier\n"
     ]
    }
   ],
   "source": [
    "age=33\n",
    "qualification=\"PG\"\n",
    "married_status=\"single\"\n",
    "if(age<35 and qualification==\"PG\" and married_status==\"married\"):\n",
    "    print(\"you are qualified for Australian immigiration\")\n",
    "elif(age>35):\n",
    "    print(\"age barrier\")\n",
    "elif(qualification==\"UG\"):\n",
    "    print(\"qualification barrier\")\n",
    "elif(married_status==\"single\"):\n",
    "    print(\"Marraige barrier\")"
   ]
  },
  {
   "cell_type": "code",
   "execution_count": null,
   "metadata": {},
   "outputs": [],
   "source": [
    "\n"
   ]
  }
 ],
 "metadata": {
  "kernelspec": {
   "display_name": "Python 3",
   "language": "python",
   "name": "python3"
  },
  "language_info": {
   "codemirror_mode": {
    "name": "ipython",
    "version": 3
   },
   "file_extension": ".py",
   "mimetype": "text/x-python",
   "name": "python",
   "nbconvert_exporter": "python",
   "pygments_lexer": "ipython3",
   "version": "3.7.6"
  }
 },
 "nbformat": 4,
 "nbformat_minor": 4
}
