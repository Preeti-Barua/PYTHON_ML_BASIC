{
 "cells": [
  {
   "cell_type": "code",
   "execution_count": 7,
   "metadata": {},
   "outputs": [
    {
     "name": "stdout",
     "output_type": "stream",
     "text": [
      "Hi Joe.  please do come in my party!!!\n",
      "Hi Zoe.  please do come in my party!!!\n",
      "Hi Manny.  please do come in my party!!!\n",
      "Hi Kizie.  please do come in my party!!!\n",
      "Hi Hazel.  please do come in my party!!!\n",
      "Hi Augustus.  please do come in my party!!!\n",
      "Hi Grace.  please do come in my party!!!\n"
     ]
    }
   ],
   "source": [
    "for name in [\"Joe\",\"Zoe\",\"Manny\",\"Kizie\",\"Hazel\",\"Augustus\",\"Grace\"]:\n",
    "    invite= \"Hi \" + name + \".  please do come in my party!!!\"\n",
    "    print(invite)\n"
   ]
  },
  {
   "cell_type": "code",
   "execution_count": 13,
   "metadata": {},
   "outputs": [
    {
     "name": "stdout",
     "output_type": "stream",
     "text": [
      "2\n",
      "4\n",
      "68\n",
      "10\n",
      "12\n"
     ]
    }
   ],
   "source": [
    "l1=[1,2,34,5,6]\n",
    "for i in l1:\n",
    "    print(i*2)"
   ]
  },
  {
   "cell_type": "code",
   "execution_count": 14,
   "metadata": {},
   "outputs": [
    {
     "name": "stdout",
     "output_type": "stream",
     "text": [
      "hello\n",
      "hello\n",
      "hello\n",
      "hello\n",
      "hello\n",
      "hello\n",
      "hello\n",
      "hello\n",
      "hello\n",
      "hello\n"
     ]
    }
   ],
   "source": [
    "count=1                               #while loop implementation\n",
    "while(count<=10):\n",
    "    print(\"hello\")\n",
    "    count=count+1\n"
   ]
  },
  {
   "cell_type": "code",
   "execution_count": 1,
   "metadata": {},
   "outputs": [
    {
     "name": "stdout",
     "output_type": "stream",
     "text": [
      "[560, 567, 574, 581, 588, 595, 602, 609, 616, 623, 630, 637, 644, 651, 658, 665, 672, 679, 686, 693, 700, 707, 714, 721, 728, 735, 742, 749, 756, 763, 770, 777, 784, 791, 798, 805, 812, 819, 826, 833, 840, 847, 854, 861, 868, 875, 882, 889, 896, 903, 910, 917, 924, 931, 938, 945, 952, 959, 966, 973, 980, 987, 994]\n",
      "63\n"
     ]
    }
   ],
   "source": [
    "list=[]\n",
    "for i in range(555,1000):\n",
    "    if(i%7==0):\n",
    "        list.append(i)\n",
    "print(list)\n",
    "print(len(list))"
   ]
  },
  {
   "cell_type": "code",
   "execution_count": null,
   "metadata": {},
   "outputs": [],
   "source": []
  }
 ],
 "metadata": {
  "kernelspec": {
   "display_name": "Python 3",
   "language": "python",
   "name": "python3"
  },
  "language_info": {
   "codemirror_mode": {
    "name": "ipython",
    "version": 3
   },
   "file_extension": ".py",
   "mimetype": "text/x-python",
   "name": "python",
   "nbconvert_exporter": "python",
   "pygments_lexer": "ipython3",
   "version": "3.7.6"
  }
 },
 "nbformat": 4,
 "nbformat_minor": 4
}
