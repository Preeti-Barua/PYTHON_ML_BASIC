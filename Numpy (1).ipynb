{
 "cells": [
  {
   "cell_type": "code",
   "execution_count": 20,
   "metadata": {},
   "outputs": [
    {
     "name": "stdout",
     "output_type": "stream",
     "text": [
      "1.0\n",
      "8.831760866327848\n"
     ]
    }
   ],
   "source": [
    "#the first step of numpy is to tell python to use it \n",
    "import numpy as np\n",
    "\n",
    "print(np.cos(0))\n",
    "print(np.sqrt(78))"
   ]
  },
  {
   "cell_type": "code",
   "execution_count": null,
   "metadata": {},
   "outputs": [],
   "source": []
  },
  {
   "cell_type": "raw",
   "metadata": {},
   "source": [
    "#we can create numpy arrays by converting list\n",
    "#this is a vector\n",
    "\n",
    "vec=np.array([1,2,3])\n",
    "print(vec)\n",
    "mat=np.array([[1,2,3],[4,5,6],[7,8,9]])\n",
    "print(' ')\n",
    "print(mat)\n",
    "print(\" \")\n",
    "print(mat.T)"
   ]
  },
  {
   "cell_type": "code",
   "execution_count": 12,
   "metadata": {},
   "outputs": [
    {
     "name": "stdout",
     "output_type": "stream",
     "text": [
      "[ 1  2  3  4  5  6  7  8  9 10 11 12 13 14]\n",
      "[ 5  7  9 11 13 15 17 19]\n"
     ]
    }
   ],
   "source": [
    "#there are lots of methords to create numpy arrays\n",
    "vec1=np.arange(1,15)\n",
    "print(vec1)\n",
    "vec2=np.arange(5,20,2)                   #intial,endingt,inc\n",
    "print(vec2)"
   ]
  },
  {
   "cell_type": "code",
   "execution_count": 18,
   "metadata": {},
   "outputs": [
    {
     "name": "stdout",
     "output_type": "stream",
     "text": [
      "[0.         0.22222222 0.44444444 0.66666667 0.88888889 1.11111111\n",
      " 1.33333333 1.55555556 1.77777778 2.        ]\n"
     ]
    }
   ],
   "source": [
    "vec1= np.linspace(0,2,10)\n",
    "print(vec1)\n"
   ]
  },
  {
   "cell_type": "code",
   "execution_count": 24,
   "metadata": {},
   "outputs": [
    {
     "name": "stdout",
     "output_type": "stream",
     "text": [
      "[ 0.47793258 -0.42890512 -0.39097475  1.36722633  1.23543356 -1.00503305\n",
      "  0.35940451  0.75014687 -0.18845133  0.2379822   2.09834989  1.54803332\n",
      "  1.09613669  2.29906477 -1.38097299]\n",
      "[ True False False  True  True False  True  True False  True  True  True\n",
      "  True  True False]\n",
      "[0.47793258 1.36722633 1.23543356 0.35940451 0.75014687 0.2379822\n",
      " 2.09834989 1.54803332 1.09613669 2.29906477]\n"
     ]
    }
   ],
   "source": [
    "#We also acess the entries with logicals\n",
    "rand_vec=np.random.randn(15)\n",
    "print(rand_vec)\n",
    "print(rand_vec>0)\n",
    "print(rand_vec[rand_vec>0])"
   ]
  },
  {
   "cell_type": "code",
   "execution_count": 32,
   "metadata": {},
   "outputs": [
    {
     "name": "stdout",
     "output_type": "stream",
     "text": [
      "[-1.31031279  0.09280237 -0.66245157  1.2458719  -0.5995418   0.55726749\n",
      " -0.32257159 -1.27056504  0.5416345  -1.01406959  1.36368129  1.8676965\n",
      "  0.29529599  0.69064289  0.38955481  1.31238987 -1.02565747  0.45728621\n",
      " -0.854845    1.28583726 -0.56722299  0.88590908  0.61373372 -1.02508491\n",
      "  0.4182037  -1.50032983 -0.91847901  0.13273655  0.62404674  1.28219564]\n",
      "[False  True False  True False  True False False  True False  True  True\n",
      "  True  True  True  True False  True False  True False  True  True False\n",
      "  True False False  True  True  True]\n",
      "[0.09280237 1.2458719  0.55726749 0.5416345  1.36368129 1.8676965\n",
      " 0.29529599 0.69064289 0.38955481 1.31238987 0.45728621 1.28583726\n",
      " 0.88590908 0.61373372 0.4182037  0.13273655 0.62404674 1.28219564]\n"
     ]
    }
   ],
   "source": [
    "rand_mat2=np.random.randn(30)\n",
    "print(rand_mat2)\n",
    "print(rand_mat2>0)\n",
    "print(rand_mat2[rand_mat2>0])"
   ]
  },
  {
   "cell_type": "code",
   "execution_count": null,
   "metadata": {},
   "outputs": [],
   "source": []
  }
 ],
 "metadata": {
  "kernelspec": {
   "display_name": "Python 3",
   "language": "python",
   "name": "python3"
  },
  "language_info": {
   "codemirror_mode": {
    "name": "ipython",
    "version": 3
   },
   "file_extension": ".py",
   "mimetype": "text/x-python",
   "name": "python",
   "nbconvert_exporter": "python",
   "pygments_lexer": "ipython3",
   "version": "3.7.6"
  }
 },
 "nbformat": 4,
 "nbformat_minor": 4
}
